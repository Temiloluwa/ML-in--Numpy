{
 "cells": [
  {
   "cell_type": "code",
   "execution_count": 4,
   "metadata": {},
   "outputs": [],
   "source": [
    "import numpy as np\n",
    "from rnn import LSTM, VanillaRNN, SequenceModel"
   ]
  },
  {
   "cell_type": "code",
   "execution_count": 5,
   "metadata": {},
   "outputs": [],
   "source": [
    "np.random.seed(1)\n",
    "num_timesteps = 3\n",
    "embed_dims = 3\n",
    "hidden_state_dims = 5\n",
    "output_dims = 2\n",
    "num_examples = 4\n",
    "\n",
    "X = np.random.rand(embed_dims, num_examples, num_timesteps)\n",
    "a0 = np.zeros((hidden_state_dims, num_examples))\n",
    "c0 = np.zeros((hidden_state_dims, num_examples))\n",
    "\n",
    "lstm_rnn = LSTM(embed_dims, output_dims, a_init=a0)\n",
    "model = SequenceModel(3, lstm_rnn)\n",
    "output = model(X)"
   ]
  },
  {
   "cell_type": "code",
   "execution_count": 6,
   "metadata": {},
   "outputs": [
    {
     "output_type": "execute_result",
     "data": {
      "text/plain": [
       "{'hidden_state': array([[0.16551576, 0.03494865, 0.02709524, 0.14346314],\n",
       "        [0.50259807, 0.31981256, 0.27185165, 0.48960147],\n",
       "        [0.45853911, 0.35037226, 0.30471356, 0.45024859],\n",
       "        [0.34959779, 0.08882839, 0.05101246, 0.31654796],\n",
       "        [0.49097497, 0.23653869, 0.16253023, 0.4898224 ]]),\n",
       " 'y_output': array([[0.34754387, 0.2925746 , 0.30281255, 0.33052128],\n",
       "        [0.65245613, 0.7074254 , 0.69718745, 0.66947872]]),\n",
       " 'cell_state': array([[0.20971183, 0.04878496, 0.0421008 , 0.1729867 ],\n",
       "        [0.75756087, 0.55401548, 0.49477286, 0.73618968],\n",
       "        [0.6759546 , 0.53091102, 0.45749358, 0.66851929],\n",
       "        [0.4806571 , 0.13185397, 0.07960879, 0.4263317 ],\n",
       "        [0.60695277, 0.28217504, 0.2097118 , 0.57867575]])}"
      ]
     },
     "metadata": {},
     "execution_count": 6
    }
   ],
   "source": [
    "model.get_timestep_outputs(2)"
   ]
  },
  {
   "cell_type": "code",
   "execution_count": null,
   "metadata": {},
   "outputs": [],
   "source": []
  },
  {
   "cell_type": "code",
   "execution_count": null,
   "metadata": {},
   "outputs": [],
   "source": []
  }
 ],
 "metadata": {
  "kernelspec": {
   "display_name": "Python 3",
   "language": "python",
   "name": "python3"
  },
  "language_info": {
   "codemirror_mode": {
    "name": "ipython",
    "version": 3
   },
   "file_extension": ".py",
   "mimetype": "text/x-python",
   "name": "python",
   "nbconvert_exporter": "python",
   "pygments_lexer": "ipython3",
   "version": "3.7.8-final"
  }
 },
 "nbformat": 4,
 "nbformat_minor": 4
}