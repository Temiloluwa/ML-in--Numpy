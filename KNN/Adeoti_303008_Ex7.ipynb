{
 "cells": [
  {
   "cell_type": "code",
   "execution_count": 1,
   "metadata": {},
   "outputs": [],
   "source": [
    "import numpy as np\n",
    "import pandas as pd\n",
    "import seaborn as sns\n",
    "import matplotlib\n",
    "import matplotlib.pyplot as plt\n",
    "from collections import Counter"
   ]
  },
  {
   "cell_type": "markdown",
   "metadata": {},
   "source": [
    "# Adeoti Temiloluwa,303008"
   ]
  },
  {
   "cell_type": "markdown",
   "metadata": {},
   "source": [
    "##  Data PreProcessing\n",
    "- wine quality data is read and stored in variable `winred`"
   ]
  },
  {
   "cell_type": "code",
   "execution_count": 2,
   "metadata": {},
   "outputs": [
    {
     "name": "stdout",
     "output_type": "stream",
     "text": [
      "Dataset has 11 features\n"
     ]
    }
   ],
   "source": [
    "winred  = pd.read_csv(\"winered.csv\", delimiter = \";\")\n",
    "win_y = winred[\"quality\"]\n",
    "win_X = winred.drop(columns = ['quality'])\n",
    "print(f\"Dataset has {len(win_X.columns)} features\")"
   ]
  },
  {
   "cell_type": "code",
   "execution_count": 3,
   "metadata": {},
   "outputs": [
    {
     "data": {
      "text/html": [
       "<div>\n",
       "<style scoped>\n",
       "    .dataframe tbody tr th:only-of-type {\n",
       "        vertical-align: middle;\n",
       "    }\n",
       "\n",
       "    .dataframe tbody tr th {\n",
       "        vertical-align: top;\n",
       "    }\n",
       "\n",
       "    .dataframe thead th {\n",
       "        text-align: right;\n",
       "    }\n",
       "</style>\n",
       "<table border=\"1\" class=\"dataframe\">\n",
       "  <thead>\n",
       "    <tr style=\"text-align: right;\">\n",
       "      <th></th>\n",
       "      <th>fixed acidity</th>\n",
       "      <th>volatile acidity</th>\n",
       "      <th>citric acid</th>\n",
       "      <th>residual sugar</th>\n",
       "      <th>chlorides</th>\n",
       "      <th>free sulfur dioxide</th>\n",
       "      <th>total sulfur dioxide</th>\n",
       "      <th>density</th>\n",
       "      <th>pH</th>\n",
       "      <th>sulphates</th>\n",
       "      <th>alcohol</th>\n",
       "    </tr>\n",
       "  </thead>\n",
       "  <tbody>\n",
       "    <tr>\n",
       "      <th>0</th>\n",
       "      <td>7.4</td>\n",
       "      <td>0.70</td>\n",
       "      <td>0.00</td>\n",
       "      <td>1.9</td>\n",
       "      <td>0.076</td>\n",
       "      <td>11.0</td>\n",
       "      <td>34.0</td>\n",
       "      <td>0.9978</td>\n",
       "      <td>3.51</td>\n",
       "      <td>0.56</td>\n",
       "      <td>9.4</td>\n",
       "    </tr>\n",
       "    <tr>\n",
       "      <th>1</th>\n",
       "      <td>7.8</td>\n",
       "      <td>0.88</td>\n",
       "      <td>0.00</td>\n",
       "      <td>2.6</td>\n",
       "      <td>0.098</td>\n",
       "      <td>25.0</td>\n",
       "      <td>67.0</td>\n",
       "      <td>0.9968</td>\n",
       "      <td>3.20</td>\n",
       "      <td>0.68</td>\n",
       "      <td>9.8</td>\n",
       "    </tr>\n",
       "    <tr>\n",
       "      <th>2</th>\n",
       "      <td>7.8</td>\n",
       "      <td>0.76</td>\n",
       "      <td>0.04</td>\n",
       "      <td>2.3</td>\n",
       "      <td>0.092</td>\n",
       "      <td>15.0</td>\n",
       "      <td>54.0</td>\n",
       "      <td>0.9970</td>\n",
       "      <td>3.26</td>\n",
       "      <td>0.65</td>\n",
       "      <td>9.8</td>\n",
       "    </tr>\n",
       "    <tr>\n",
       "      <th>3</th>\n",
       "      <td>11.2</td>\n",
       "      <td>0.28</td>\n",
       "      <td>0.56</td>\n",
       "      <td>1.9</td>\n",
       "      <td>0.075</td>\n",
       "      <td>17.0</td>\n",
       "      <td>60.0</td>\n",
       "      <td>0.9980</td>\n",
       "      <td>3.16</td>\n",
       "      <td>0.58</td>\n",
       "      <td>9.8</td>\n",
       "    </tr>\n",
       "    <tr>\n",
       "      <th>4</th>\n",
       "      <td>7.4</td>\n",
       "      <td>0.70</td>\n",
       "      <td>0.00</td>\n",
       "      <td>1.9</td>\n",
       "      <td>0.076</td>\n",
       "      <td>11.0</td>\n",
       "      <td>34.0</td>\n",
       "      <td>0.9978</td>\n",
       "      <td>3.51</td>\n",
       "      <td>0.56</td>\n",
       "      <td>9.4</td>\n",
       "    </tr>\n",
       "  </tbody>\n",
       "</table>\n",
       "</div>"
      ],
      "text/plain": [
       "   fixed acidity  volatile acidity  citric acid  residual sugar  chlorides  \\\n",
       "0            7.4              0.70         0.00             1.9      0.076   \n",
       "1            7.8              0.88         0.00             2.6      0.098   \n",
       "2            7.8              0.76         0.04             2.3      0.092   \n",
       "3           11.2              0.28         0.56             1.9      0.075   \n",
       "4            7.4              0.70         0.00             1.9      0.076   \n",
       "\n",
       "   free sulfur dioxide  total sulfur dioxide  density    pH  sulphates  \\\n",
       "0                 11.0                  34.0   0.9978  3.51       0.56   \n",
       "1                 25.0                  67.0   0.9968  3.20       0.68   \n",
       "2                 15.0                  54.0   0.9970  3.26       0.65   \n",
       "3                 17.0                  60.0   0.9980  3.16       0.58   \n",
       "4                 11.0                  34.0   0.9978  3.51       0.56   \n",
       "\n",
       "   alcohol  \n",
       "0      9.4  \n",
       "1      9.8  \n",
       "2      9.8  \n",
       "3      9.8  \n",
       "4      9.4  "
      ]
     },
     "execution_count": 3,
     "metadata": {},
     "output_type": "execute_result"
    }
   ],
   "source": [
    "win_X.head()"
   ]
  },
  {
   "cell_type": "markdown",
   "metadata": {},
   "source": [
    "- function `standardize_features` standardizes the dataset \n",
    "- Function `train_test_split` performs train-test split on a dataset in ration 80:20\n",
    "- The function is used to generate train-test split for the dataset "
   ]
  },
  {
   "cell_type": "code",
   "execution_count": 4,
   "metadata": {},
   "outputs": [
    {
     "name": "stdout",
     "output_type": "stream",
     "text": [
      "Shape of Xtrain : (1119, 11)\n",
      "Shape of Xtest  : (480, 11)\n",
      "Shape of ytrain : (1119,)\n",
      "Shape of Xtest  : (480,)\n"
     ]
    }
   ],
   "source": [
    "standardize_features = lambda x: (x - x.mean()) / x.std()\n",
    "normalize_features  = lambda x: (x - x.min()) / (x.max() - x.min())\n",
    "\n",
    "def train_test_split(x_data,y_data):\n",
    "    np.random.seed(5)\n",
    "    a = np.arange(len(x_data))\n",
    "    np.random.shuffle(a)\n",
    "    split = int(len(x_data)*0.7)\n",
    "    X_train, X_test, y_train, y_test = x_data.iloc[a[:split],:],\\\n",
    "                                    x_data.iloc[a[split:],:],\\\n",
    "                                    y_data.iloc[a[:split]],\\\n",
    "                                    y_data.iloc[a[split:]]\n",
    "    assert(len(X_train) + len(X_test) == len(x_data))\n",
    "    assert(len(y_train) + len(y_test) == len(y_data))\n",
    "    return X_train, X_test, y_train, y_test\n",
    "\n",
    "win_X = standardize_features(win_X)\n",
    "Xtrain, Xtest, ytrain, ytest = train_test_split(win_X,win_y)\n",
    "\n",
    "print(f\"Shape of Xtrain : {Xtrain.shape}\")\n",
    "print(f\"Shape of Xtest  : {Xtest.shape}\")\n",
    "print(f\"Shape of ytrain : {ytrain.shape}\")\n",
    "print(f\"Shape of Xtest  : {ytest.shape}\")\n",
    "\n",
    "if type(Xtrain) == type(winred):\n",
    "    Xtrain = Xtrain.values\n",
    "    Xtest  = Xtest.values\n",
    "    ytrain = ytrain.values\n",
    "    ytest  = ytest.values"
   ]
  },
  {
   "cell_type": "markdown",
   "metadata": {},
   "source": [
    "## Q1 K-Nearest Neighbors\n",
    "\n",
    "### Description of Class KNN methods and attributes\n",
    "#### Private Attributes\n",
    "- Class KNN is intialized with `k`, the number of neighbors.\n",
    "- `_k_neighbors` is the most important attribute in the class\n",
    "    - It stores the k nearest neighbors as a tuple of the neighbors index and euclidean distance to the query datapoint\n",
    "    - It is of length `k`\n",
    "    - The tuples are stored in it in **DESCENDING ORDER** of distances, **HIGHEST to LOWEST**\n",
    "    - All the `_k_neighbors` for all the test set examples are stored in `_test_set_neighbors`\n",
    "    - for example, if k = 5, `_k_neighbors` for the first test set example is:\n",
    "    ```python     \n",
    "    [(860, 1.9474045543875391),(1018, 1.941104967896153),(127, 1.9016909517227305),\n",
    "         (602, 1.7989084072574815),(945, 1.4307068001798398)]\n",
    "    ```\n",
    "\n",
    "#### Methods\n",
    "- **_euclid_dist**: calculates the euclidean distance between two vectors\n",
    "- **validate_neighbors**: This is just a function that validates that  `self._k_neighbors` was sorted properly in descending order\n",
    "- **_append_into_k_neighbors**:Called by `fit method` when the size of `self._k_neighbors` is less than or equal to `self._k` and appends neighbor information to `self_.k_neighbors`\n",
    "- ** _insert_into_k_neighbors**: Called by `fit method`when the size of `self._k_neighbors` is greater than `self._k` and inserts neighbor information to `self_.k_neighbors`\n",
    "    - If new neighbor is found, it enters `self._k_neighbors` and `element(0)`, highest distance ,is popped\n",
    "- **fit**: Function that performs the training stage\n",
    "- **predict_regression**: Returns regression predictions\n",
    "-**rmse**: Calculates RMSE\n",
    "- **predict_classification** - Returns classification predictions\n",
    "- **accuracy** - Calculates Accuracy\n",
    "- **display_neighbors** - produces a dataframe displaying all the neighbors with distance information\n",
    "\n",
    "### The Fit Method\n",
    "*For each test example, which is the query point, the following is performed by the fit method*:\n",
    "1. For each  train set example the euclidean distance to the query test set is calculated \n",
    "2. For the first set of k examples in the trainset, `_append_into_k_neighbors` appends their `(index,distance)` tuple to `_k_neighbors`\n",
    "3. Once `_k_neighbors` is of length `k`, it is sorted in descending order of distances by `_append_into_k_neighbors`\n",
    "4. Any new train set example, whose euclidean distance is calculated `X_train[k:]` will be inserted into `_k_neighbors` if it's distance is less than any of the current neighbors by `_insert_into_k_neighbors`\n",
    "5. `_insert_into_k_neighbors` also pops out element 0, the one with highest distance, after insertion\n",
    "6. After all the distances are calculated, the neighbors are appended to `._test_set_neighbors`\n",
    "7. Finally, `validate_neighbors` picks 20 random sets of neighbors in `_test_set_neighbors` to ensure that they are arranged in order of decreasing euclidean distances\n",
    "\n",
    "\n"
   ]
  },
  {
   "cell_type": "code",
   "execution_count": 16,
   "metadata": {},
   "outputs": [],
   "source": [
    "class KNN():\n",
    "    def __init__(self,k):\n",
    "        #number of neighbors\n",
    "        self._k = k \n",
    "        #store k nearest neighbors and distances for a single query object\n",
    "        self._k_neighbors = []\n",
    "        #store neighbors and distances for all query objects\n",
    "        self._test_set_neighbors = []\n",
    "        \n",
    "    #calculates euclidean distances between two vectors\n",
    "    def _euclid_dist(self,vector_a,vector_b):\n",
    "        return np.sqrt(np.sum((vector_a- vector_b)**2))\n",
    "    \n",
    "    #validates that  _k_neighbors was sorted in descending order for a random number of queries\n",
    "    def validate_neighbors(self):\n",
    "        random_indices = np.random.randint(0,len(self._test_set_neighbors),20)\n",
    "        for i in random_indices:\n",
    "            data = self._test_set_neighbors[i]\n",
    "            for j in range(len(data) - 1) :\n",
    "                index,dist            = data[j]\n",
    "                next_index,next_dist  = data[j+1]\n",
    "                \n",
    "                try:\n",
    "                    assert(dist >= next_dist)\n",
    "                except AssertionError:\n",
    "                    print(f\"index {index},dist{dist}\")\n",
    "                    print(f\"next index {next_index},next dist{next_dist}\")\n",
    "\n",
    "    #Called when the size of self._k_neighbors is less than or equals self._k and appends neighbor information to self_.k_neighbors\n",
    "    def _append_into_k_neighbors(self,new_neighbor_index, new_neighbor_dist):\n",
    "        new_neighbor = (new_neighbor_index, new_neighbor_dist)\n",
    "        self._k_neighbors.append(new_neighbor)\n",
    "        \n",
    "        if len(self._k_neighbors) == self._k:\n",
    "            self._k_neighbors.sort(reverse = True, key = lambda tup: tup[1])\n",
    "        return \n",
    "            \n",
    "    #Called when the size of self._k_neighbors is greater than self._k and inserts neighbor information to self_.k_neighbors\n",
    "    #If new neighbor is found, it enters self._k_neighbors and element(0), highest distance is popped\n",
    "    def _insert_into_k_neighbors(self,new_neighbor_index, new_neighbor_dist):\n",
    "        new_neighbor        = (new_neighbor_index, new_neighbor_dist)\n",
    "        insertion_pointer   = 0\n",
    "      \n",
    "        for index,dist in self._k_neighbors:\n",
    "            len_of_neighbors = len(self._k_neighbors)\n",
    "            \n",
    "            if new_neighbor_dist < dist:\n",
    "                insertion_pointer += 1\n",
    "            else: \n",
    "                self._k_neighbors.insert(insertion_pointer,new_neighbor)\n",
    "                self._k_neighbors.pop(0)\n",
    "                break\n",
    "            \n",
    "            #will only occur if the newentry is has a distance smaller than all others  \n",
    "            if insertion_pointer == len_of_neighbors:\n",
    "                self._k_neighbors.insert(insertion_pointer,new_neighbor)\n",
    "                self._k_neighbors.pop(0)\n",
    "        insertion_pointer   = 0\n",
    "        \n",
    "        return\n",
    "    \n",
    "    #train the model\n",
    "    def fit(self,X_train,X_test):\n",
    "        len_test  = len(X_test)\n",
    "        len_train = len(X_train)\n",
    "        \n",
    "        for query_index in range(len_test):\n",
    "            query = X_test[query_index]\n",
    "            for train_index in range(len_train):\n",
    "                train_dist = self._euclid_dist(query,X_train[train_index])\n",
    "                if train_index < self._k:\n",
    "                    self._append_into_k_neighbors(train_index,train_dist)\n",
    "                else:\n",
    "                    self._insert_into_k_neighbors(train_index,train_dist)\n",
    "            \n",
    "            #store neighbors information in self._test_set_neighbors of current test query\n",
    "            self._test_set_neighbors.append(self._k_neighbors)\n",
    "            #delete all entries in _k_neigbors for the next query\n",
    "            self._k_neighbors = []\n",
    "        self.validate_neighbors()\n",
    "        return \n",
    "        \n",
    "    def predict_regression(self,y_train):\n",
    "        num_queries        = len(self._test_set_neighbors)\n",
    "        prediction_queries = np.empty((num_queries,1))\n",
    "        for i in range(num_queries):\n",
    "            prediction = 0\n",
    "            for index, _ in self._test_set_neighbors[i]:\n",
    "                prediction += y_train[index]\n",
    "            prediction_queries[i] = prediction/self._k\n",
    "        \n",
    "        return prediction_queries\n",
    "    \n",
    "    def rmse(self,y_train,y_test):\n",
    "        error = y_test - self.predict_regression(y_train)\n",
    "        return np.sqrt(np.mean(error**2))\n",
    "    \n",
    "    def predict_classification(self,y_train):\n",
    "        num_queries        = len(self._test_set_neighbors)\n",
    "        prediction_queries = np.empty((num_queries,1))\n",
    "        most_common_class  = []\n",
    "        \n",
    "        for i in range(num_queries):\n",
    "            prediction = []\n",
    "            for index, _ in self._test_set_neighbors[i]:\n",
    "                prediction.append(y_train[index])\n",
    "            count = Counter(prediction)\n",
    "            most_common_class.append(count)\n",
    "            prediction_queries[i] = count.most_common(1)[0][0]\n",
    "        return prediction_queries,most_common_class\n",
    "    \n",
    "    def accuracy(self,y_train,y_test):\n",
    "        return np.mean(y_test == self.predict_classification(y_train)[0]) * 100\n",
    "    \n",
    "    def display_neighbors(self):\n",
    "        cols = []\n",
    "        for i in range(self._k):\n",
    "            cols.append('Neighbor '+str(i)+' (index,distance)')\n",
    "        neighbor_dataframe = pd.DataFrame(self._test_set_neighbors)\n",
    "        neighbor_dataframe.columns = cols\n",
    "\n",
    "        return neighbor_dataframe\n",
    "    \n",
    "    "
   ]
  },
  {
   "cell_type": "code",
   "execution_count": 6,
   "metadata": {},
   "outputs": [
    {
     "data": {
      "text/html": [
       "<div>\n",
       "<style scoped>\n",
       "    .dataframe tbody tr th:only-of-type {\n",
       "        vertical-align: middle;\n",
       "    }\n",
       "\n",
       "    .dataframe tbody tr th {\n",
       "        vertical-align: top;\n",
       "    }\n",
       "\n",
       "    .dataframe thead th {\n",
       "        text-align: right;\n",
       "    }\n",
       "</style>\n",
       "<table border=\"1\" class=\"dataframe\">\n",
       "  <thead>\n",
       "    <tr style=\"text-align: right;\">\n",
       "      <th></th>\n",
       "      <th>Neighbor 0 (index,distance)</th>\n",
       "      <th>Neighbor 1 (index,distance)</th>\n",
       "      <th>Neighbor 2 (index,distance)</th>\n",
       "      <th>Neighbor 3 (index,distance)</th>\n",
       "      <th>Neighbor 4 (index,distance)</th>\n",
       "    </tr>\n",
       "  </thead>\n",
       "  <tbody>\n",
       "    <tr>\n",
       "      <th>0</th>\n",
       "      <td>(860, 1.9474045543875391)</td>\n",
       "      <td>(1018, 1.9411049678961516)</td>\n",
       "      <td>(127, 1.9016909517227278)</td>\n",
       "      <td>(602, 1.7989084072574801)</td>\n",
       "      <td>(945, 1.4307068001798398)</td>\n",
       "    </tr>\n",
       "    <tr>\n",
       "      <th>1</th>\n",
       "      <td>(749, 1.4748968508229383)</td>\n",
       "      <td>(339, 1.4396812826573524)</td>\n",
       "      <td>(954, 1.4019596131091547)</td>\n",
       "      <td>(360, 1.2276205010144727)</td>\n",
       "      <td>(496, 1.1770751088692828)</td>\n",
       "    </tr>\n",
       "    <tr>\n",
       "      <th>2</th>\n",
       "      <td>(271, 1.1196860488890914)</td>\n",
       "      <td>(753, 1.0812100202201096)</td>\n",
       "      <td>(1043, 1.0560983181664012)</td>\n",
       "      <td>(564, 0.8815926854782233)</td>\n",
       "      <td>(803, 0.7698015501729215)</td>\n",
       "    </tr>\n",
       "    <tr>\n",
       "      <th>3</th>\n",
       "      <td>(90, 1.7541658026388087)</td>\n",
       "      <td>(496, 1.7524333504764293)</td>\n",
       "      <td>(555, 1.7006135062048342)</td>\n",
       "      <td>(214, 1.7006135062048342)</td>\n",
       "      <td>(374, 1.516091865911077)</td>\n",
       "    </tr>\n",
       "    <tr>\n",
       "      <th>4</th>\n",
       "      <td>(684, 1.414556139678054)</td>\n",
       "      <td>(393, 1.358576495234689)</td>\n",
       "      <td>(591, 1.2124570020538488)</td>\n",
       "      <td>(571, 1.2124570020538488)</td>\n",
       "      <td>(753, 1.0596875733250466)</td>\n",
       "    </tr>\n",
       "  </tbody>\n",
       "</table>\n",
       "</div>"
      ],
      "text/plain": [
       "  Neighbor 0 (index,distance) Neighbor 1 (index,distance)  \\\n",
       "0   (860, 1.9474045543875391)  (1018, 1.9411049678961516)   \n",
       "1   (749, 1.4748968508229383)   (339, 1.4396812826573524)   \n",
       "2   (271, 1.1196860488890914)   (753, 1.0812100202201096)   \n",
       "3    (90, 1.7541658026388087)   (496, 1.7524333504764293)   \n",
       "4    (684, 1.414556139678054)    (393, 1.358576495234689)   \n",
       "\n",
       "  Neighbor 2 (index,distance) Neighbor 3 (index,distance)  \\\n",
       "0   (127, 1.9016909517227278)   (602, 1.7989084072574801)   \n",
       "1   (954, 1.4019596131091547)   (360, 1.2276205010144727)   \n",
       "2  (1043, 1.0560983181664012)   (564, 0.8815926854782233)   \n",
       "3   (555, 1.7006135062048342)   (214, 1.7006135062048342)   \n",
       "4   (591, 1.2124570020538488)   (571, 1.2124570020538488)   \n",
       "\n",
       "  Neighbor 4 (index,distance)  \n",
       "0   (945, 1.4307068001798398)  \n",
       "1   (496, 1.1770751088692828)  \n",
       "2   (803, 0.7698015501729215)  \n",
       "3    (374, 1.516091865911077)  \n",
       "4   (753, 1.0596875733250466)  "
      ]
     },
     "execution_count": 6,
     "metadata": {},
     "output_type": "execute_result"
    }
   ],
   "source": [
    "k = 5\n",
    "model = KNN(5)\n",
    "model.fit(Xtrain,Xtest)\n",
    "model.display_neighbors().head(5)"
   ]
  },
  {
   "cell_type": "code",
   "execution_count": 7,
   "metadata": {
    "scrolled": false
   },
   "outputs": [
    {
     "data": {
      "text/plain": [
       "[(860, 1.9474045543875391),\n",
       " (1018, 1.9411049678961516),\n",
       " (127, 1.9016909517227278),\n",
       " (602, 1.7989084072574801),\n",
       " (945, 1.4307068001798398)]"
      ]
     },
     "execution_count": 7,
     "metadata": {},
     "output_type": "execute_result"
    }
   ],
   "source": [
    "model._test_set_neighbors[0]"
   ]
  },
  {
   "cell_type": "code",
   "execution_count": 8,
   "metadata": {
    "scrolled": true
   },
   "outputs": [
    {
     "name": "stdout",
     "output_type": "stream",
     "text": [
      "Model Accuracy 37.416666666666664%\n",
      "Model Test RMSE 0.9697132308058914\n"
     ]
    }
   ],
   "source": [
    "print(f\"Model Accuracy {model.accuracy(ytrain,ytest)}%\")\n",
    "print(f\"Model Test RMSE {model.rmse(ytrain,ytest)}\")"
   ]
  },
  {
   "cell_type": "markdown",
   "metadata": {},
   "source": [
    "## Quality Criterion choice\n",
    "\n",
    "### Challenge of the Accuracy Criterion in Classificadtion\n",
    "- The algorithm states than the majority class should be chosen during classification\n",
    "- The list below contains Counters that were used to determine the class each data point in the test set belongs to\n",
    "- Looking at the last element in the list displayed (Counter for test set example 13):\n",
    "    - One neighbor has a class of 4 \n",
    "    - Two neighbors have a class of 5\n",
    "    - Two other neighbos have a class of 6 !\n",
    "    - ** Should the Class of Data point 13 in the test set be 5 or 6? **\n",
    "    - **In Summary, the Class with the highest probability is usually not always unique**\n",
    "    \n",
    "### Challenge of the RMSE Criterion in Regression\n",
    "- While Regressing, the mean of all the target values of the neighbors are used.\n",
    "- The lowest RMSE occurs in this dataset occurs when k = `len(Xtrain)`, the length of the training set\n",
    "- **This is equivalent to creating a model that is simply prediction = np.mean(ytrain) - Just taking the mean of all the training examples is the prediction for all the trainset examples**.\n",
    "    - This results in a very naive model\n",
    "  \n",
    "\n",
    "\n",
    "**Therefore, the Accuracy Criterion will be used**\n"
   ]
  },
  {
   "cell_type": "code",
   "execution_count": 9,
   "metadata": {},
   "outputs": [
    {
     "data": {
      "text/plain": [
       "[Counter({5: 1, 6: 4}),\n",
       " Counter({5: 2, 6: 2, 7: 1}),\n",
       " Counter({6: 2, 7: 3}),\n",
       " Counter({5: 1, 6: 1, 7: 1, 8: 2}),\n",
       " Counter({6: 3, 7: 2}),\n",
       " Counter({4: 1, 5: 3, 6: 1}),\n",
       " Counter({6: 1, 7: 4}),\n",
       " Counter({5: 5}),\n",
       " Counter({5: 4, 6: 1}),\n",
       " Counter({5: 4, 6: 1}),\n",
       " Counter({5: 5}),\n",
       " Counter({4: 1, 6: 4}),\n",
       " Counter({4: 1, 5: 2, 6: 2})]"
      ]
     },
     "execution_count": 9,
     "metadata": {},
     "output_type": "execute_result"
    }
   ],
   "source": [
    "model.predict_classification(ytrain)[1][:13]"
   ]
  },
  {
   "cell_type": "markdown",
   "metadata": {},
   "source": [
    "## Q2 Optimal K"
   ]
  },
  {
   "cell_type": "code",
   "execution_count": 10,
   "metadata": {},
   "outputs": [
    {
     "name": "stdout",
     "output_type": "stream",
     "text": [
      "klist [5, 10, 50, 100, 150, 200, 300, 350, 500, 750, 1000, 1119]\n"
     ]
    }
   ],
   "source": [
    "klist        = [5,10,50,100,150,200,300,350,500, 750, 1000, len(Xtrain)]\n",
    "print(f\"klist {klist}\")\n",
    "k_model_rmse = []\n",
    "k_model_acc = []\n",
    "for k in klist:\n",
    "    model = KNN(k)\n",
    "    model.fit(Xtrain,Xtest)\n",
    "    k_model_rmse.append(model.rmse(ytrain,ytest))\n",
    "    k_model_acc.append(model.accuracy(ytrain,ytest))"
   ]
  },
  {
   "cell_type": "code",
   "execution_count": 11,
   "metadata": {
    "scrolled": true
   },
   "outputs": [],
   "source": [
    "def plot_k(criterion_list,klist,criterion_type):\n",
    "    plt.figure(figsize = (8,8))\n",
    "    plt.plot(criterion_list)\n",
    "    plt.xticks(np.arange(len(criterion_list)),klist)\n",
    "    plt.xlabel(\"K values\")\n",
    "    plt.ylabel(criterion_type)\n",
    "    plt.title(\"Plot of \"+criterion_type + \" vs K\")"
   ]
  },
  {
   "cell_type": "code",
   "execution_count": 12,
   "metadata": {},
   "outputs": [
    {
     "data": {
      "image/png": "[encoded data removed]",
      "text/plain": [
       "<matplotlib.figure.Figure at 0x22d92978ac8>"
      ]
     },
     "metadata": {},
     "output_type": "display_data"
    }
   ],
   "source": [
    "plot_k(k_model_rmse,klist,\"Test RMSE\")"
   ]
  },
  {
   "cell_type": "code",
   "execution_count": 13,
   "metadata": {},
   "outputs": [
    {
     "name": "stdout",
     "output_type": "stream",
     "text": [
      "Lowest RMSE is 0.7861857632720161 which occurs when k = 1119\n"
     ]
    }
   ],
   "source": [
    "print(f\"Lowest RMSE is {np.min(k_model_rmse)} which occurs when k = {klist[np.argmin(np.array(k_model_rmse))]}\")"
   ]
  },
  {
   "cell_type": "code",
   "execution_count": 14,
   "metadata": {},
   "outputs": [
    {
     "data": {
      "image/png": "[encoded data removed]",
      "text/plain": [
       "<matplotlib.figure.Figure at 0x22d9655ff60>"
      ]
     },
     "metadata": {},
     "output_type": "display_data"
    }
   ],
   "source": [
    "plot_k(k_model_acc,klist,\"Test Accuracy\")"
   ]
  },
  {
   "cell_type": "code",
   "execution_count": 15,
   "metadata": {},
   "outputs": [
    {
     "name": "stdout",
     "output_type": "stream",
     "text": [
      "Highest Accuracy is 41.05902777777778% which occurs when k = 200\n"
     ]
    }
   ],
   "source": [
    "print(f\"Highest Accuracy is {np.max(k_model_acc)}% which occurs when k = {klist[np.argmax(np.array(k_model_acc))]}\")"
   ]
  },
  {
   "cell_type": "markdown",
   "metadata": {},
   "source": [
    "- The optimal value of K is chosen to be 200 using the accuracy criterion"
   ]
  },
  {
   "cell_type": "code",
   "execution_count": null,
   "metadata": {},
   "outputs": [],
   "source": []
  }
 ],
 "metadata": {
  "kernelspec": {
   "display_name": "Python 3",
   "language": "python",
   "name": "python3"
  },
  "language_info": {
   "codemirror_mode": {
    "name": "ipython",
    "version": 3
   },
   "file_extension": ".py",
   "mimetype": "text/x-python",
   "name": "python",
   "nbconvert_exporter": "python",
   "pygments_lexer": "ipython3",
   "version": "3.6.4"
  }
 },
 "nbformat": 4,
 "nbformat_minor": 2
}
