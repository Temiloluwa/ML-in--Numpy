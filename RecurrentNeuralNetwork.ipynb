{
 "cells": [
  {
   "cell_type": "code",
   "execution_count": 1,
   "metadata": {},
   "outputs": [
    {
     "name": "stderr",
     "output_type": "stream",
     "text": [
      "c:\\users\\temil\\onedrive\\documents\\codes_and_scripts\\python_envs\\pytorch-tf2-env\\lib\\site-packages\\numpy\\_distributor_init.py:32: UserWarning: loaded more than 1 DLL from .libs:\n",
      "c:\\users\\temil\\onedrive\\documents\\codes_and_scripts\\python_envs\\pytorch-tf2-env\\lib\\site-packages\\numpy\\.libs\\libopenblas.NOIJJG62EMASZI6NYURL6JBKM4EVBGM7.gfortran-win_amd64.dll\n",
      "c:\\users\\temil\\onedrive\\documents\\codes_and_scripts\\python_envs\\pytorch-tf2-env\\lib\\site-packages\\numpy\\.libs\\libopenblas.PYQHXLVVQ7VESDPUVUADXEVJOBGHJPAY.gfortran-win_amd64.dll\n",
      "  stacklevel=1)\n"
     ]
    }
   ],
   "source": [
    "from abc import ABC, abstractmethod\n",
    "import numpy as np"
   ]
  },
  {
   "cell_type": "code",
   "execution_count": 25,
   "metadata": {},
   "outputs": [],
   "source": [
    "class RNN(ABC):\n",
    "    \"\"\"\n",
    "    Base RNN class\n",
    "    \"\"\"\n",
    "    _vocab_size = None\n",
    "    _cell_state_dims = None\n",
    "    _hidden_state_dims = None\n",
    "    _output_dims = None\n",
    "    _named_parameters = None\n",
    "    _hidden_state_activation = None\n",
    "    _output_activation = None\n",
    "    _initalizer = None\n",
    "    _a_prev = None\n",
    "    _a_next = None\n",
    "    _y_output = None\n",
    "    _c_state = None\n",
    "    \n",
    "    def __init__(self):\n",
    "        pass    \n",
    "    \n",
    "    @property\n",
    "    def vocab_size(self):\n",
    "        return self._vocab_size\n",
    "    \n",
    "    @property\n",
    "    def cell_state_dims(self):\n",
    "        return self._cell_state_dims\n",
    "    \n",
    "    @property\n",
    "    def hidden_state_dims(self):\n",
    "        return self._hidden_state_dims\n",
    "    \n",
    "    @property\n",
    "    def output_dims(self):\n",
    "        return self._output_dims\n",
    "    \n",
    "    @property\n",
    "    def hidden_state(self):\n",
    "        return self._a_next\n",
    "    \n",
    "    @property\n",
    "    def prev_hidden_state(self):\n",
    "        return self._a_prev\n",
    "    \n",
    "    @property\n",
    "    def cell_state(self):\n",
    "        return self._c_state\n",
    "    \n",
    "    @property\n",
    "    def output(self):\n",
    "        return self._y_output\n",
    "    \n",
    "    @property\n",
    "    def named_parameters(self):\n",
    "        return self._named_parameters\n",
    "    \n",
    "    \n",
    "    @abstractmethod\n",
    "    def random_initializer(self):\n",
    "        pass\n",
    "    \n",
    "    @abstractmethod\n",
    "    def forward(self, x, a_prev, c_prev=None):\n",
    "        pass\n",
    "    \n",
    "    @abstractmethod\n",
    "    def backward(self):\n",
    "        pass\n",
    "\n",
    "    \n",
    "    @classmethod\n",
    "    def tanh(cls, x):\n",
    "        return np.tanh(x)\n",
    "    \n",
    "    @classmethod\n",
    "    def softmax(cls, x):\n",
    "        x = np.exp(x)\n",
    "        return x/np.sum(x, axis=0, keepdims=True)\n",
    "    \n",
    "    def initialize_parameters(self):\n",
    "        initializer_fn = getattr(self, self._initalizer)\n",
    "        return initializer_fn()\n",
    "    \n",
    "    def hidden_state_activation(self, x):\n",
    "        hidden_state_activation_fn = getattr(self, self._hidden_state_activation)\n",
    "        return hidden_state_activation_fn(x)\n",
    "    \n",
    "    def output_activation(self, x):\n",
    "        output_activation_fn = getattr(self, self._output_activation)\n",
    "        return output_activation_fn(x)"
   ]
  },
  {
   "cell_type": "code",
   "execution_count": 26,
   "metadata": {},
   "outputs": [],
   "source": [
    "class VanillaRNN(RNN):\n",
    "    \"\"\"\n",
    "    Vanilla RNN class\n",
    "    \n",
    "    Args:\n",
    "         vocab_size (int) - size of vocabulary\n",
    "         hidden_state_dims (int) - size of hidden state\n",
    "         output_dims (int) - output dimension\n",
    "         initalizer (str) - type of initializer\n",
    "         hidden_state_activation (str) - hidden state activation\n",
    "         output_activation (str) -  output activation\n",
    "         \n",
    "    properties:\n",
    "        prev_hidden_state (ndarray) - previous hidden state tensor\n",
    "        hidden_state (ndarray) - hidden state tensor\n",
    "        output (ndarray) - output tensor\n",
    "        named_parameters (dict) - timestep parameters\n",
    "    \n",
    "    \"\"\"\n",
    "    def __init__(self, vocab_size, \n",
    "                       hidden_state_dims, \n",
    "                       output_dims,\n",
    "                       initalizer=\"random_initializer\",\n",
    "                       hidden_state_activation=\"tanh\",\n",
    "                       output_activation=\"softmax\"\n",
    "                ):\n",
    "        self._vocab_size = vocab_size\n",
    "        self._hidden_state_dims = hidden_state_dims\n",
    "        self._output_dims = output_dims\n",
    "        self._initalizer = initalizer\n",
    "        self._named_parameters = self.initialize_parameters()\n",
    "        self._hidden_state_activation = hidden_state_activation\n",
    "        self._output_activation = output_activation\n",
    "    \n",
    "    \n",
    "    def __call__(self, x, a_prev):\n",
    "        return self.forward(x, a_prev)\n",
    "        \n",
    "    \n",
    "    @property\n",
    "    def cell_state_dims(self):\n",
    "        raise NotImplementedError(\"Vanilla RNNs have no cell state\")\n",
    "        \n",
    "    @property\n",
    "    def cell_state(self):\n",
    "        raise NotImplementedError(\"Vanilla RNNs have no cell state\")\n",
    "        \n",
    "    def forward(self, x, a_prev):\n",
    "        self._a_prev = a_prev\n",
    "        vocab_size, num_examples = x.shape\n",
    "        weights = np.hstack([self.named_parameters[\"Waa\"], self.named_parameters[\"Wax\"]])\n",
    "        inputs = np.vstack([a_prev, x])\n",
    "        Wa = self.named_parameters[\"Wya\"]\n",
    "        ba = self.named_parameters[\"ba\"]\n",
    "        by = self.named_parameters[\"by\"]\n",
    "        self._a_next = self.hidden_state_activation(weights.dot(inputs) + ba)\n",
    "        self._y_output = self.output_activation(Wa.dot(self._a_next) + by)\n",
    "        return self._a_next, self._y_output \n",
    "    \n",
    "    def backward(self):\n",
    "        pass\n",
    "    \n",
    "    def random_initializer(self):\n",
    "        return {\n",
    "            \"Wax\": np.random.rand(self._hidden_state_dims, self._vocab_size),\n",
    "            \"Waa\": np.random.rand(self._hidden_state_dims, self._hidden_state_dims),\n",
    "            \"Wya\": np.random.rand(self._output_dims, self._hidden_state_dims),\n",
    "            \"ba\" : np.random.rand(self._hidden_state_dims, 1),\n",
    "            \"by\" : np.random.rand(self._output_dims, 1)\n",
    "        }\n",
    "    "
   ]
  },
  {
   "cell_type": "code",
   "execution_count": 54,
   "metadata": {},
   "outputs": [],
   "source": [
    "class GRU(RNN):\n",
    "    pass\n",
    "    "
   ]
  },
  {
   "cell_type": "code",
   "execution_count": 55,
   "metadata": {},
   "outputs": [],
   "source": [
    "class LSTM(RNN):\n",
    "    pass"
   ]
  },
  {
   "cell_type": "code",
   "execution_count": 42,
   "metadata": {},
   "outputs": [],
   "source": [
    "class SequenceModel:\n",
    "    \"\"\"\n",
    "    Sequence Model\n",
    "    \n",
    "    Args:\n",
    "         num_time_steps - number of time steps\n",
    "         rnn_model_class - class of RNN model\n",
    "    \"\"\"\n",
    "    def __init__(self, num_time_steps, rnn_model_class, kwargs):\n",
    "        self.num_time_steps = num_time_steps\n",
    "        for i in range(num_time_steps):\n",
    "            setattr(self, f\"timestep_{i}\", rnn_model_class(**kwargs))\n",
    "            \n",
    "    def __call__(self, X, a0):\n",
    "        a_next = a0\n",
    "        for i in range(self.num_time_steps):\n",
    "            timestep = getattr(self, f\"timestep_{i}\")\n",
    "            a_next, y_output = timestep(X[..., i], a_next)\n",
    "        return a_next, y_output"
   ]
  },
  {
   "cell_type": "code",
   "execution_count": 43,
   "metadata": {},
   "outputs": [
    {
     "data": {
      "text/plain": [
       "(array([[0.99195588, 0.99866091, 0.99926061, 0.99839471],\n",
       "        [0.99784975, 0.99941239, 0.99957269, 0.99913954],\n",
       "        [0.9960653 , 0.99951336, 0.99970848, 0.99909163],\n",
       "        [0.98854368, 0.9956519 , 0.99779915, 0.99780434],\n",
       "        [0.99812025, 0.99933286, 0.99969128, 0.99974024]]),\n",
       " array([[0.4704125 , 0.47000867, 0.47001463, 0.47007601],\n",
       "        [0.5295875 , 0.52999133, 0.52998537, 0.52992399]]))"
      ]
     },
     "execution_count": 43,
     "metadata": {},
     "output_type": "execute_result"
    }
   ],
   "source": [
    "np.random.seed(1)\n",
    "num_timesteps = 3\n",
    "vocab_size = 3\n",
    "hidden_state_dims = 5\n",
    "output_dims = 2\n",
    "num_examples = 4\n",
    "\n",
    "X = np.random.rand(vocab_size, num_examples, num_timesteps)\n",
    "a0 = np.zeros((hidden_state_dims, num_examples))\n",
    "model_kwargs = {\"vocab_size\":vocab_size, \"hidden_state_dims\":hidden_state_dims, \"output_dims\":output_dims}\n",
    "model = SequenceModel(3, VanillaRNN, model_kwargs)\n",
    "model(X, a0)"
   ]
  },
  {
   "cell_type": "code",
   "execution_count": 51,
   "metadata": {},
   "outputs": [
    {
     "data": {
      "text/plain": [
       "{'Wax': array([[0.07197428, 0.96727633, 0.56810046],\n",
       "        [0.20329323, 0.25232574, 0.74382585],\n",
       "        [0.19542948, 0.58135893, 0.97001999],\n",
       "        [0.8468288 , 0.23984776, 0.49376971],\n",
       "        [0.61995572, 0.8289809 , 0.15679139]]),\n",
       " 'Waa': array([[0.0185762 , 0.07002214, 0.48634511, 0.60632946, 0.56885144],\n",
       "        [0.31736241, 0.98861615, 0.57974522, 0.38014117, 0.55094822],\n",
       "        [0.74533443, 0.66923289, 0.26491956, 0.06633483, 0.3700842 ],\n",
       "        [0.62971751, 0.21017401, 0.75275555, 0.06653648, 0.2603151 ],\n",
       "        [0.80475456, 0.19343428, 0.63946088, 0.52467031, 0.92480797]]),\n",
       " 'Wya': array([[0.26329677, 0.06596109, 0.73506596, 0.77217803, 0.90781585],\n",
       "        [0.93197207, 0.01395157, 0.23436209, 0.61677836, 0.94901632]]),\n",
       " 'ba': array([[0.95017612],\n",
       "        [0.55665319],\n",
       "        [0.91560635],\n",
       "        [0.64156621],\n",
       "        [0.39000771]]),\n",
       " 'by': array([[0.48599067],\n",
       "        [0.60431048]])}"
      ]
     },
     "execution_count": 51,
     "metadata": {},
     "output_type": "execute_result"
    }
   ],
   "source": [
    "model.timestep_2.named_parameters"
   ]
  },
  {
   "cell_type": "code",
   "execution_count": 52,
   "metadata": {},
   "outputs": [
    {
     "data": {
      "text/plain": [
       "array([[0.4704125 , 0.47000867, 0.47001463, 0.47007601],\n",
       "       [0.5295875 , 0.52999133, 0.52998537, 0.52992399]])"
      ]
     },
     "execution_count": 52,
     "metadata": {},
     "output_type": "execute_result"
    }
   ],
   "source": [
    "model.timestep_2.output"
   ]
  },
  {
   "cell_type": "code",
   "execution_count": 53,
   "metadata": {},
   "outputs": [
    {
     "data": {
      "text/plain": [
       "array([[0.99195588, 0.99866091, 0.99926061, 0.99839471],\n",
       "       [0.99784975, 0.99941239, 0.99957269, 0.99913954],\n",
       "       [0.9960653 , 0.99951336, 0.99970848, 0.99909163],\n",
       "       [0.98854368, 0.9956519 , 0.99779915, 0.99780434],\n",
       "       [0.99812025, 0.99933286, 0.99969128, 0.99974024]])"
      ]
     },
     "execution_count": 53,
     "metadata": {},
     "output_type": "execute_result"
    }
   ],
   "source": [
    "model.timestep_2.hidden_state"
   ]
  },
  {
   "cell_type": "code",
   "execution_count": null,
   "metadata": {},
   "outputs": [],
   "source": []
  }
 ],
 "metadata": {
  "kernelspec": {
   "display_name": "Python 3",
   "language": "python",
   "name": "python3"
  },
  "language_info": {
   "codemirror_mode": {
    "name": "ipython",
    "version": 3
   },
   "file_extension": ".py",
   "mimetype": "text/x-python",
   "name": "python",
   "nbconvert_exporter": "python",
   "pygments_lexer": "ipython3",
   "version": "3.7.8"
  }
 },
 "nbformat": 4,
 "nbformat_minor": 4
}
